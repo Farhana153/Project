{
  "nbformat": 4,
  "nbformat_minor": 0,
  "metadata": {
    "colab": {
      "provenance": [],
      "authorship_tag": "ABX9TyN+6H5FJNHqVctzlPaQAuqr",
      "include_colab_link": true
    },
    "kernelspec": {
      "name": "python3",
      "display_name": "Python 3"
    },
    "language_info": {
      "name": "python"
    }
  },
  "cells": [
    {
      "cell_type": "markdown",
      "metadata": {
        "id": "view-in-github",
        "colab_type": "text"
      },
      "source": [
        "<a href=\"https://colab.research.google.com/github/Farhana153/Project/blob/main/Copy_of_Untitled0.ipynb\" target=\"_parent\"><img src=\"https://colab.research.google.com/assets/colab-badge.svg\" alt=\"Open In Colab\"/></a>"
      ]
    },
    {
      "cell_type": "markdown",
      "source": [],
      "metadata": {
        "id": "3vtnehYIigMl"
      }
    },
    {
      "cell_type": "code",
      "execution_count": null,
      "metadata": {
        "colab": {
          "base_uri": "https://localhost:8080/"
        },
        "id": "E1RxcktbhImq",
        "outputId": "cfb31011-6144-4227-abad-3618564a6f06"
      },
      "outputs": [
        {
          "output_type": "stream",
          "name": "stdout",
          "text": [
            "Enter a noun: dua\n",
            "Enter a verb: eating\n",
            "Enter an adjective: a biryani\n",
            "Enter an adverb: biryani\n",
            "\n",
            "Here is your Mad Libs story:\n",
            "\n",
            "One day, a a biryani dua decided to eating biryani. It was a fantastic adventure!\n"
          ]
        }
      ],
      "source": [
        "# Mad Libs Game\n",
        "\n",
        "# Function to get user inputs\n",
        "def mad_libs():\n",
        "    noun = input(\"Enter a noun: \")\n",
        "    verb = input(\"Enter a verb: \")\n",
        "    adjective = input(\"Enter an adjective: \")\n",
        "    adverb = input(\"Enter an adverb: \")\n",
        "\n",
        "    # Story template\n",
        "    story = f\"One day, a {adjective} {noun} decided to {verb} {adverb}. It was a fantastic adventure!\"\n",
        "\n",
        "    print(\"\\nHere is your Mad Libs story:\\n\")\n",
        "    print(story)\n",
        "\n",
        "# Run the game\n",
        "mad_libs()\n"
      ]
    },
    {
      "cell_type": "code",
      "source": [],
      "metadata": {
        "id": "-NqRQmIPhrvy"
      },
      "execution_count": null,
      "outputs": []
    }
  ]
}